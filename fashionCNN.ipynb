{
 "cells": [
  {
   "cell_type": "code",
   "execution_count": 2,
   "metadata": {},
   "outputs": [],
   "source": [
    "import torch\n",
    "import torch.nn as nn\n",
    "import torch.nn.functional as F\n",
    "import torch.optim as optim\n",
    "from torch.utils.data import random_split, DataLoader\n",
    "from torchvision import datasets\n",
    "from torchvision.transforms import ToTensor"
   ]
  },
  {
   "cell_type": "code",
   "execution_count": 3,
   "metadata": {},
   "outputs": [
    {
     "name": "stdout",
     "output_type": "stream",
     "text": [
      "60000\n",
      "10000\n",
      "50000 10000\n"
     ]
    }
   ],
   "source": [
    "# download train data from open datasets.\n",
    "train_data=datasets.FashionMNIST(root='data', train=True, download=True, transform=ToTensor(),)\n",
    "print(len(train_data))\n",
    "\n",
    "# download test data from open datsets.\n",
    "test_data=datasets.FashionMNIST(root='data', train=False, download=True, transform=ToTensor(),)\n",
    "print(len(test_data))\n",
    "\n",
    "# set the size of the training and evaluation sets\n",
    "train_size = 50000\n",
    "eval_size = 10000\n",
    "\n",
    "# split the dataset into training and evaluation sets\n",
    "train_data, eval_data = random_split(train_data, [train_size, eval_size])\n",
    "print(len(train_data), len(eval_data))"
   ]
  },
  {
   "cell_type": "code",
   "execution_count": null,
   "metadata": {},
   "outputs": [],
   "source": [
    "import matplotlib.pyplot as plt\n",
    "\n",
    "labels_map={\n",
    "    0: 'T-shirt',\n",
    "    1: 'Trouser',\n",
    "    2: 'Pullover',\n",
    "    3: 'Dress',\n",
    "    4: 'Coat',\n",
    "    5: 'Sandal',\n",
    "    6: 'Shirt',\n",
    "    7: 'Sneaker',\n",
    "    8: 'Bag',\n",
    "    9: 'Ankle Boot',\n",
    "}\n",
    "\n",
    "figure = plt.figure(figsize = (10,10))\n",
    "cols, rows = 3, 3\n",
    "\n",
    "for i in range (1, cols*rows + 1):\n",
    "    sample_idx = torch.randint(len(train_data), size = (1,)).item()\n",
    "    image, label = train_data[sample_idx]\n",
    "    figure.add_subplot(rows, cols, i)\n",
    "    plt.title(labels_map[label])\n",
    "    plt.axis('off')\n",
    "    plt.imshow(image.squeeze(), cmap='gray')\n",
    "plt.show()"
   ]
  },
  {
   "cell_type": "code",
   "execution_count": 5,
   "metadata": {},
   "outputs": [],
   "source": [
    "batch_size = 100\n",
    "\n",
    "train_dl= DataLoader(train_data, batch_size = batch_size, shuffle=True)\n",
    "test_dl = DataLoader(test_data, batch_size=batch_size, shuffle=False)\n",
    "eval_dl = DataLoader(eval_data, batch_size=batch_size, shuffle=False)"
   ]
  },
  {
   "cell_type": "code",
   "execution_count": 6,
   "metadata": {},
   "outputs": [],
   "source": [
    "device = 'cpu'\n",
    "# 1 - 5 - 10 - 5 \n",
    "class CNN(nn.Module):\n",
    "    def __init__(self):\n",
    "        super().__init__()\n",
    "        self.conv1 = nn.Conv2d(1, 28, 5)\n",
    "        self.conv2 = nn.Conv2d(28, 64, 5)\n",
    "        self.conv3 = nn.Conv2d(64, 128, 3)\n",
    "        self.pool = nn.MaxPool2d(2, 2)\n",
    "        self.fc1 = nn.Linear(128 * 1 * 1, 512)\n",
    "        self.fc2 = nn.Linear(512, 128)  \n",
    "        self.fc3 = nn.Linear(128, 10)\n",
    "        self.drop = nn.Dropout(0.5)\n",
    "\n",
    "    def forward(self, x):\n",
    "        x = self.pool(F.relu(self.conv1(x)))\n",
    "        x = self.pool(F.relu(self.conv2(x)))\n",
    "        x = self.pool(F.relu((self.conv3(x))))\n",
    "        x = torch.flatten(x, 1)                 # flatten all dimensions except batch\n",
    "        x = F.relu(self.fc1(x))\n",
    "        x = self.drop(x)\n",
    "        x = self.fc2(x)\n",
    "        x = self.fc3(x)\n",
    "        return x\n"
   ]
  },
  {
   "cell_type": "code",
   "execution_count": 21,
   "metadata": {},
   "outputs": [
    {
     "name": "stdout",
     "output_type": "stream",
     "text": [
      "Validation Loss: 2.3047991609573364 Accuracy: 10.00%\n"
     ]
    }
   ],
   "source": [
    "def initial_check(model, test_dl):\n",
    "    criterion = nn.CrossEntropyLoss()\n",
    "    model.eval()\n",
    "    test_loss = 0\n",
    "    test_correct = 0\n",
    "    test_total = 0\n",
    "    # testing loop\n",
    "    with torch.no_grad():\n",
    "        for data, labels in test_dl:\n",
    "            data, labels = data.to(device), labels.to(device)\n",
    "\n",
    "            outputs = model(data)\n",
    "            loss = criterion(outputs, labels)\n",
    "\n",
    "            test_loss += loss.item()\n",
    "            _, predicted = torch.max(outputs, 1)\n",
    "            test_total += labels.size(0)\n",
    "            test_correct += (predicted == labels).sum().item()\n",
    "\n",
    "    test_acc = 100 * test_correct / test_total\n",
    "    print(f\"Validation Loss: {test_loss / len(test_dl)} Accuracy: {test_acc:.2f}%\")\n",
    "\n",
    "model = CNN()\n",
    "initial_check(model, test_dl)"
   ]
  },
  {
   "cell_type": "code",
   "execution_count": 18,
   "metadata": {},
   "outputs": [
    {
     "name": "stdout",
     "output_type": "stream",
     "text": [
      "At epoch 0 loss: 0.6958079130649567 with learning rate: 0.001\n",
      "Validation Loss: 0.4669290924072266 Accuracy: 82.53%\n",
      "At epoch 1 loss: 0.38454418551921843 with learning rate: 0.001\n",
      "Validation Loss: 0.3637856534123421 Accuracy: 86.90%\n",
      "At epoch 2 loss: 0.3135516831576824 with learning rate: 0.001\n",
      "Validation Loss: 0.3307983233034611 Accuracy: 87.61%\n",
      "At epoch 3 loss: 0.2756026233434677 with learning rate: 0.001\n",
      "Validation Loss: 0.32069759905338285 Accuracy: 88.68%\n",
      "At epoch 4 loss: 0.25122273240983484 with learning rate: 0.001\n",
      "Validation Loss: 0.2849931476265192 Accuracy: 89.98%\n",
      "At epoch 5 loss: 0.23006474895775317 with learning rate: 0.001\n",
      "Validation Loss: 0.2959082758426666 Accuracy: 89.45%\n",
      "At epoch 6 loss: 0.21190067227184772 with learning rate: 0.001\n",
      "Validation Loss: 0.27935025542974473 Accuracy: 90.37%\n",
      "At epoch 7 loss: 0.19550036865472795 with learning rate: 0.001\n",
      "Validation Loss: 0.29304766073822974 Accuracy: 89.91%\n",
      "At epoch 8 loss: 0.18154868812114 with learning rate: 0.001\n",
      "Validation Loss: 0.2914341555535793 Accuracy: 90.00%\n",
      "At epoch 9 loss: 0.1675472144410014 with learning rate: 0.001\n",
      "Validation Loss: 0.3013748874515295 Accuracy: 90.27%\n",
      "At epoch 10 loss: 0.15348146959766745 with learning rate: 0.001\n",
      "Validation Loss: 0.2932310528308153 Accuracy: 90.15%\n",
      "At epoch 11 loss: 0.14430095355957748 with learning rate: 0.001\n",
      "Validation Loss: 0.32009665682911875 Accuracy: 89.93%\n",
      "At epoch 12 loss: 0.13074928557500243 with learning rate: 0.001\n",
      "Validation Loss: 0.32929989881813526 Accuracy: 89.89%\n",
      "At epoch 13 loss: 0.1201642045006156 with learning rate: 0.001\n",
      "Validation Loss: 0.33884176157414914 Accuracy: 89.98%\n",
      "At epoch 14 loss: 0.1120059372689575 with learning rate: 0.001\n",
      "Validation Loss: 0.35775426276028155 Accuracy: 89.93%\n",
      "At epoch 15 loss: 0.1037386960014701 with learning rate: 0.001\n",
      "Validation Loss: 0.33777117386460304 Accuracy: 89.97%\n",
      "At epoch 16 loss: 0.09964236832410098 with learning rate: 0.001\n",
      "Validation Loss: 0.39441059485077856 Accuracy: 90.02%\n",
      "At epoch 17 loss: 0.08862975015491246 with learning rate: 0.001\n",
      "Validation Loss: 0.3951799867302179 Accuracy: 89.52%\n",
      "At epoch 18 loss: 0.08490237100981175 with learning rate: 0.001\n",
      "Validation Loss: 0.3712919043004513 Accuracy: 89.30%\n",
      "At epoch 19 loss: 0.08123975505679845 with learning rate: 0.001\n",
      "Validation Loss: 0.4125641927868128 Accuracy: 90.34%\n",
      "Finished Training\n"
     ]
    }
   ],
   "source": [
    "def train_model(model, train_dl, test_dl, epochs, lr=0.001):\n",
    "    criterion = nn.CrossEntropyLoss()\n",
    "    optimizer = optim.Adam(model.parameters(), lr=lr)\n",
    "    scheduler = optim.lr_scheduler.ReduceLROnPlateau(optimizer, 'min', patience=1, factor=0.1, min_lr=0.000001) # use dynamic lr\n",
    "    train_losses, test_losses = [], []              # to keep track of histoy of losses\n",
    "\n",
    "    model.train()\n",
    "\n",
    "    for epoch in range(epochs):  # loop over the dataset multiple times\n",
    "        train_loss = 0.0\n",
    "        current_lr = optimizer.param_groups[0]['lr']\n",
    "        # training loop\n",
    "        for inputs, outputs in train_dl:\n",
    "            optimizer.zero_grad()\n",
    "            inputs, outputs = inputs.to(device), outputs.to(device)\n",
    "            pred = model(inputs)\n",
    "            loss = criterion(pred, outputs)                                      # optimize\n",
    "            loss.backward() \n",
    "            optimizer.step()\n",
    "            train_loss += loss.item()\n",
    "        \n",
    "        print(f'At epoch {epoch} loss: {train_loss / len(train_dl)} with learning rate: {current_lr}')\n",
    "        scheduler.step(train_loss)\n",
    "\n",
    "        model.eval()\n",
    "        test_loss = 0\n",
    "        test_correct = 0\n",
    "        test_total = 0\n",
    "        # testing loop\n",
    "        with torch.no_grad():\n",
    "            for data, labels in test_dl:\n",
    "                data, labels = data.to(device), labels.to(device)\n",
    "\n",
    "                outputs = model(data)\n",
    "                loss = criterion(outputs, labels)\n",
    "\n",
    "                test_loss += loss.item()\n",
    "                _, predicted = torch.max(outputs, 1)\n",
    "                test_total += labels.size(0)\n",
    "                test_correct += (predicted == labels).sum().item()\n",
    "\n",
    "        test_acc = 100 * test_correct / test_total\n",
    "        print(f\"Validation Loss: {test_loss / len(test_dl)} Accuracy: {test_acc:.2f}%\")\n",
    "\n",
    "        test_losses.append(test_loss/len(test_dl))\n",
    "        train_losses.append(train_loss/len(train_dl))\n",
    "        \n",
    "    print('Finished Training')\n",
    "\n",
    "    return train_losses, test_losses\n",
    "\n",
    "model = CNN()\n",
    "# input size= 28x28\n",
    "train_losses, test_losses = train_model(model, train_dl, test_dl, 20)"
   ]
  },
  {
   "cell_type": "code",
   "execution_count": 19,
   "metadata": {},
   "outputs": [
    {
     "data": {
      "text/plain": [
       "<matplotlib.legend.Legend at 0x1ba5f6a4e30>"
      ]
     },
     "execution_count": 19,
     "metadata": {},
     "output_type": "execute_result"
    },
    {
     "data": {
      "image/png": "[encoded data removed]",
      "text/plain": [
       "<Figure size 640x480 with 1 Axes>"
      ]
     },
     "metadata": {},
     "output_type": "display_data"
    }
   ],
   "source": [
    "import matplotlib.pyplot as plt\n",
    "# visualize training process\n",
    "plt.plot(train_losses, label = \"Training loss\")\n",
    "plt.plot(test_losses, label = \"Validation loss\")\n",
    "plt.legend(frameon = False)"
   ]
  },
  {
   "cell_type": "code",
   "execution_count": 9,
   "metadata": {},
   "outputs": [],
   "source": [
    "file = 'cnn_model.pth'\n",
    "torch.save(model.state_dict(), file)"
   ]
  },
  {
   "cell_type": "code",
   "execution_count": 20,
   "metadata": {},
   "outputs": [
    {
     "name": "stdout",
     "output_type": "stream",
     "text": [
      "Test Loss: 0.3751\n",
      "Test Accuracy: 91.20%\n"
     ]
    }
   ],
   "source": [
    "def evaluate (eval_dl, model, criterion):\n",
    "    model.eval()\n",
    "    eval_loss, correct, total = 0, 0, 0\n",
    "    with torch.no_grad():\n",
    "        for inputs, outputs in eval_dl:\n",
    "            inputs, outputs = inputs.to(device), outputs.to(device)\n",
    "            pred = model(inputs)\n",
    "            loss = criterion(pred, outputs)    \n",
    "\n",
    "            eval_loss += loss.item()\n",
    "\n",
    "            _, predicted = torch.max(pred, 1)               # get class with highest probability\n",
    "            correct += (predicted == outputs).sum().item()  # count correctly predicted samples\n",
    "            total += outputs.size(0)                        # keep track of total samples\n",
    "        \n",
    "        avg_loss = eval_loss / len(eval_dl)             # average loss over all batches\n",
    "        accuracy = 100 * correct / total                # calculate accuracy as a percentage\n",
    "\n",
    "    print(f\"Test Loss: {avg_loss:.4f}\")\n",
    "    print(f\"Test Accuracy: {accuracy:.2f}%\")\n",
    "    \n",
    "criterion = nn.CrossEntropyLoss()\n",
    "evaluate(eval_dl, model, criterion)"
   ]
  },
  {
   "cell_type": "code",
   "execution_count": 16,
   "metadata": {},
   "outputs": [
    {
     "name": "stdout",
     "output_type": "stream",
     "text": [
      "Accuracy of T-shirt: 82.20%\n",
      "Accuracy of Trouser: 95.40%\n",
      "Accuracy of Pullover: 81.00%\n",
      "Accuracy of Dress: 91.00%\n",
      "Accuracy of Coat: 82.40%\n",
      "Accuracy of Sandal: 95.70%\n",
      "Accuracy of Shirt: 47.70%\n",
      "Accuracy of Sneaker: 97.10%\n",
      "Accuracy of Bag: 96.00%\n",
      "Accuracy of Ankle Boot: 95.40%\n"
     ]
    }
   ],
   "source": [
    "from torch.autograd import Variable\n",
    "\n",
    "def accuracy_per_class(test_dl, model):\n",
    "    class_correct = [0. for _ in range(10)]\n",
    "    total_correct = [0. for _ in range(10)]\n",
    "\n",
    "    with torch.no_grad():\n",
    "        for images, labels in test_dl:\n",
    "            images, labels = images.to(device), labels.to(device)\n",
    "            test = Variable(images)\n",
    "            outputs = model(test)\n",
    "            predicted = torch.max(outputs, 1)[1]\n",
    "            correct = (predicted == labels).squeeze()\n",
    "            \n",
    "            for i in range(len(labels)):\n",
    "                label = labels[i]\n",
    "                class_correct[label] += correct[i].item()\n",
    "                total_correct[label] += 1\n",
    "            \n",
    "    for i in range(10):\n",
    "        print(\"Accuracy of {}: {:.2f}%\".format(labels_map[i], class_correct[i] * 100 / total_correct[i]))\n",
    "\n",
    "accuracy_per_class(test_dl, model)"
   ]
  }
 ],
 "metadata": {
  "kernelspec": {
   "display_name": "Python 3",
   "language": "python",
   "name": "python3"
  },
  "language_info": {
   "codemirror_mode": {
    "name": "ipython",
    "version": 3
   },
   "file_extension": ".py",
   "mimetype": "text/x-python",
   "name": "python",
   "nbconvert_exporter": "python",
   "pygments_lexer": "ipython3",
   "version": "3.12.3"
  }
 },
 "nbformat": 4,
 "nbformat_minor": 2
}
